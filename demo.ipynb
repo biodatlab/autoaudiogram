{
 "cells": [
  {
   "cell_type": "code",
   "execution_count": 1,
   "metadata": {},
   "outputs": [],
   "source": [
    "from src.utils import extract_feature_from_image, postprocessing\n",
    "from ultralytics import YOLO\n",
    "from pycaret.classification import load_model, predict_model\n",
    "import easyocr\n",
    "import pandas as pd"
   ]
  },
  {
   "cell_type": "code",
   "execution_count": 2,
   "metadata": {},
   "outputs": [
    {
     "name": "stdout",
     "output_type": "stream",
     "text": [
      "Transformation Pipeline and Model Successfully Loaded\n"
     ]
    }
   ],
   "source": [
    "# define image and model path\n",
    "image_dir = \"src/data/07-2021 - 07-2022/\"\n",
    "filename = \"1.jpg\"\n",
    "box_model_path = \"models/yolov8_box.pt\"\n",
    "symbol_model_path = \"models/yolov8_symbol.pt\"\n",
    "classifier_path = \"models/extract_model\"\n",
    "\n",
    "# load model\n",
    "box_model = YOLO(box_model_path)\n",
    "symbol_model = YOLO(symbol_model_path)\n",
    "classifier = load_model(classifier_path)\n",
    "reader = easyocr.Reader([\"en\"], gpu=True)"
   ]
  },
  {
   "cell_type": "code",
   "execution_count": 3,
   "metadata": {},
   "outputs": [
    {
     "name": "stderr",
     "output_type": "stream",
     "text": [
      "\n",
      "0: 640x448 1 ear_graph, 1 pta_table, 22.3ms\n",
      "Speed: 4.0ms preprocess, 22.3ms inference, 5.0ms postprocess per image at shape (1, 3, 640, 640)\n",
      "\n",
      "0: 640x640 7 Air Rt Unmaskeds, 8 Air Lt Unmaskeds, 1 Air Rt Masked, 4 Bone Lt Unmaskeds, 4 Bone Rt Maskeds, 12.0ms\n",
      "Speed: 2.0ms preprocess, 12.0ms inference, 2.0ms postprocess per image at shape (1, 3, 640, 640)\n"
     ]
    }
   ],
   "source": [
    "# extract data from image\n",
    "extract_rt_df, extract_lt_df = extract_feature_from_image(\n",
    "    filename, image_dir, box_model, symbol_model, reader\n",
    ")\n",
    "\n",
    "# post processing right and left data\n",
    "feature_rt_df = postprocessing(extract_rt_df)\n",
    "feature_lt_df = postprocessing(extract_lt_df)"
   ]
  },
  {
   "cell_type": "code",
   "execution_count": 4,
   "metadata": {},
   "outputs": [
    {
     "data": {
      "text/html": [
       "<div>\n",
       "<style scoped>\n",
       "    .dataframe tbody tr th:only-of-type {\n",
       "        vertical-align: middle;\n",
       "    }\n",
       "\n",
       "    .dataframe tbody tr th {\n",
       "        vertical-align: top;\n",
       "    }\n",
       "\n",
       "    .dataframe thead th {\n",
       "        text-align: right;\n",
       "    }\n",
       "</style>\n",
       "<table border=\"1\" class=\"dataframe\">\n",
       "  <thead>\n",
       "    <tr style=\"text-align: right;\">\n",
       "      <th></th>\n",
       "      <th>pta_ac</th>\n",
       "      <th>pta_bc</th>\n",
       "      <th>sl</th>\n",
       "      <th>srt</th>\n",
       "      <th>pb</th>\n",
       "      <th>250_ac</th>\n",
       "      <th>500_ac</th>\n",
       "      <th>1000_ac</th>\n",
       "      <th>2000_ac</th>\n",
       "      <th>4000_ac</th>\n",
       "      <th>6000_ac</th>\n",
       "      <th>8000_ac</th>\n",
       "      <th>500_bc</th>\n",
       "      <th>1000_bc</th>\n",
       "      <th>2000_bc</th>\n",
       "      <th>4000_bc</th>\n",
       "      <th>prediction_label</th>\n",
       "      <th>prediction_score</th>\n",
       "    </tr>\n",
       "  </thead>\n",
       "  <tbody>\n",
       "    <tr>\n",
       "      <th>right</th>\n",
       "      <td>59.648117</td>\n",
       "      <td>59.077152</td>\n",
       "      <td>57.038578</td>\n",
       "      <td>55.0</td>\n",
       "      <td>7724.0</td>\n",
       "      <td>30.949831</td>\n",
       "      <td>36.480026</td>\n",
       "      <td>40.999069</td>\n",
       "      <td>37.272583</td>\n",
       "      <td>41.745735</td>\n",
       "      <td>41.534515</td>\n",
       "      <td>55.976303</td>\n",
       "      <td>35.880524</td>\n",
       "      <td>40.834648</td>\n",
       "      <td>35.495209</td>\n",
       "      <td>41.767498</td>\n",
       "      <td>Moderately Severe</td>\n",
       "      <td>1.0000</td>\n",
       "    </tr>\n",
       "    <tr>\n",
       "      <th>left</th>\n",
       "      <td>38.250561</td>\n",
       "      <td>37.403461</td>\n",
       "      <td>30.000000</td>\n",
       "      <td>40.0</td>\n",
       "      <td>400.0</td>\n",
       "      <td>76.224075</td>\n",
       "      <td>60.896267</td>\n",
       "      <td>56.343590</td>\n",
       "      <td>61.704502</td>\n",
       "      <td>55.982513</td>\n",
       "      <td>66.017326</td>\n",
       "      <td>71.039986</td>\n",
       "      <td>60.046516</td>\n",
       "      <td>56.159088</td>\n",
       "      <td>61.025860</td>\n",
       "      <td>55.819618</td>\n",
       "      <td>Mild</td>\n",
       "      <td>0.9999</td>\n",
       "    </tr>\n",
       "  </tbody>\n",
       "</table>\n",
       "</div>"
      ],
      "text/plain": [
       "          pta_ac     pta_bc         sl   srt      pb     250_ac     500_ac  \\\n",
       "right  59.648117  59.077152  57.038578  55.0  7724.0  30.949831  36.480026   \n",
       "left   38.250561  37.403461  30.000000  40.0   400.0  76.224075  60.896267   \n",
       "\n",
       "         1000_ac    2000_ac    4000_ac    6000_ac    8000_ac     500_bc  \\\n",
       "right  40.999069  37.272583  41.745735  41.534515  55.976303  35.880524   \n",
       "left   56.343590  61.704502  55.982513  66.017326  71.039986  60.046516   \n",
       "\n",
       "         1000_bc    2000_bc    4000_bc   prediction_label  prediction_score  \n",
       "right  40.834648  35.495209  41.767498  Moderately Severe            1.0000  \n",
       "left   56.159088  61.025860  55.819618               Mild            0.9999  "
      ]
     },
     "execution_count": 4,
     "metadata": {},
     "output_type": "execute_result"
    }
   ],
   "source": [
    "# classified degree of hearing loss\n",
    "predict_right_hearing_loss = predict_model(classifier, data=feature_rt_df)\n",
    "predict_left_hearing_loss = predict_model(classifier, data=feature_lt_df)\n",
    "\n",
    "# concat right and left data and rename index\n",
    "result = pd.concat([predict_right_hearing_loss, predict_left_hearing_loss], axis=0)\n",
    "result.index = ['right', 'left']\n",
    "\n",
    "# map prediction label\n",
    "label = ['Normal', 'Mild', 'Moderate', 'Moderately Severe', 'Severe', 'Profound']\n",
    "result['prediction_label'] = result['prediction_label'].apply(lambda x: label[x])\n",
    "\n",
    "result"
   ]
  }
 ],
 "metadata": {
  "kernelspec": {
   "display_name": "audiogram",
   "language": "python",
   "name": "python3"
  },
  "language_info": {
   "codemirror_mode": {
    "name": "ipython",
    "version": 3
   },
   "file_extension": ".py",
   "mimetype": "text/x-python",
   "name": "python",
   "nbconvert_exporter": "python",
   "pygments_lexer": "ipython3",
   "version": "3.10.6"
  }
 },
 "nbformat": 4,
 "nbformat_minor": 2
}
