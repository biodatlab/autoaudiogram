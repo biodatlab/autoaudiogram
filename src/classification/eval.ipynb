{
 "cells": [
  {
   "cell_type": "code",
   "execution_count": 1,
   "metadata": {},
   "outputs": [],
   "source": [
    "import pandas as pd\n",
    "from sklearn.metrics import mean_absolute_error\n",
    "from sklearn.metrics import mean_absolute_percentage_error"
   ]
  },
  {
   "cell_type": "code",
   "execution_count": 16,
   "metadata": {},
   "outputs": [],
   "source": [
    "# load data\n",
    "true_train_df = pd.read_csv('data/train_true.csv')\n",
    "true_test_df = pd.read_csv('data/test_true.csv')\n",
    "true_df = pd.concat([true_train_df, true_test_df], axis=0).drop(columns=['Unnamed: 0', 'label'])\n",
    "# replace 0 with 0.1 to avoid zero division\n",
    "true_df = true_df.replace(0, 0.1)\n",
    "\n",
    "pred_train_df = pd.read_csv('data/train_extract.csv')\n",
    "pred_test_df = pd.read_csv('data/test_extract.csv')\n",
    "pred_df = pd.concat([pred_train_df, pred_test_df], axis=0).drop(columns=['Unnamed: 0', 'label'])\n",
    "# replace 0 with 0.1 to avoid zero division\n",
    "pred_df = pred_df.replace(0, 0.1)"
   ]
  },
  {
   "cell_type": "code",
   "execution_count": 17,
   "metadata": {},
   "outputs": [
    {
     "name": "stdout",
     "output_type": "stream",
     "text": [
      "MAE:  25.87201253526358\n",
      "MAPE:  2.489664614650951\n"
     ]
    }
   ],
   "source": [
    "# calculate MAE and MAPE\n",
    "mae = mean_absolute_error(true_df, pred_df)\n",
    "mape = mean_absolute_percentage_error(true_df, pred_df)\n",
    "\n",
    "print('MAE: ', mae)\n",
    "print('MAPE: ', mape)"
   ]
  },
  {
   "cell_type": "code",
   "execution_count": null,
   "metadata": {},
   "outputs": [],
   "source": []
  }
 ],
 "metadata": {
  "kernelspec": {
   "display_name": "audiogram",
   "language": "python",
   "name": "python3"
  },
  "language_info": {
   "codemirror_mode": {
    "name": "ipython",
    "version": 3
   },
   "file_extension": ".py",
   "mimetype": "text/x-python",
   "name": "python",
   "nbconvert_exporter": "python",
   "pygments_lexer": "ipython3",
   "version": "3.10.6"
  }
 },
 "nbformat": 4,
 "nbformat_minor": 2
}
